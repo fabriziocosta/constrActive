{
 "cells": [
  {
   "cell_type": "markdown",
   "metadata": {},
   "source": [
    "# constrActive optimization"
   ]
  },
  {
   "cell_type": "code",
   "execution_count": 1,
   "metadata": {
    "attributes": {
     "classes": [],
     "id": "",
     "n": "1"
    }
   },
   "outputs": [
    {
     "data": {
      "text/html": [
       "<style>.container { width:95% !important; }</style><style>.output_png {display: table-cell;text-align: center;vertical-align: middle;}</style>"
      ],
      "text/plain": [
       "<IPython.core.display.HTML object>"
      ]
     },
     "execution_count": 1,
     "metadata": {},
     "output_type": "execute_result"
    }
   ],
   "source": [
    "%matplotlib inline\n",
    "%load_ext autoreload\n",
    "%autoreload 2\n",
    "import numpy as np\n",
    "import scipy as sp\n",
    "from eden.util import configure_logging\n",
    "import logging\n",
    "logger = logging.getLogger()\n",
    "configure_logging(logger,verbosity=1)\n",
    "import warnings\n",
    "warnings.filterwarnings('ignore')\n",
    "warnings.filterwarnings(action='once')\n",
    "from IPython.core.display import HTML\n",
    "HTML('<style>.container { width:95% !important; }</style><style>.output_png {display: table-cell;text-align: center;vertical-align: middle;}</style>')"
   ]
  },
  {
   "cell_type": "code",
   "execution_count": 2,
   "metadata": {
    "collapsed": true
   },
   "outputs": [],
   "source": [
    "from toolz import curry, pipe\n",
    "from eden_chem.io.pubchem import download\n",
    "from eden_chem.io.rdkitutils import sdf_to_nx\n",
    "\n",
    "download_active = curry(download)(active=True)\n",
    "download_inactive = curry(download)(active=False)\n",
    "\n",
    "def get_pos_graphs(assay_id): return pipe(assay_id, download_active, sdf_to_nx, list)\n",
    "def get_neg_graphs(assay_id): return pipe(assay_id, download_inactive, sdf_to_nx, list)"
   ]
  },
  {
   "cell_type": "markdown",
   "metadata": {},
   "source": [
    "# Set up input graphs"
   ]
  },
  {
   "cell_type": "code",
   "execution_count": 3,
   "metadata": {
    "collapsed": true,
    "scrolled": false
   },
   "outputs": [],
   "source": [
    "from IPython.core.display import display\n",
    "from eden_chem.display.rdkitutils import nx_to_image\n",
    "\n",
    "def draw_mols(graphs, num=15, n_graphs_per_line=7):\n",
    "    titles = [graph.graph.get('id',i) for i, graph in enumerate(graphs)]\n",
    "    img = nx_to_image(graphs[:num], n_graphs_per_line=n_graphs_per_line, titles=titles)\n",
    "    display(img)\n",
    "\n",
    "\n",
    "def draw_rdkit(ideal_graphs, top_graphs, num=15, n_graphs_per_line=7):\n",
    "    print('Ideal graphs: %d' % len(ideal_graphs))\n",
    "    draw_mols(ideal_graphs, num=num, n_graphs_per_line=n_graphs_per_line)\n",
    "\n",
    "    print('Top k graphs: %d' % len(top_graphs))\n",
    "    draw_mols(top_graphs, num=num, n_graphs_per_line=n_graphs_per_line)"
   ]
  },
  {
   "cell_type": "code",
   "execution_count": 4,
   "metadata": {},
   "outputs": [
    {
     "name": "stderr",
     "output_type": "stream",
     "text": [
      "/home/fc334/miniconda2/envs/eden_env/lib/python2.7/site-packages/scipy/stats/_continuous_distns.py:17: RuntimeWarning: numpy.dtype size changed, may indicate binary incompatibility. Expected 96, got 88\n",
      "  from . import _stats\n",
      "/home/fc334/miniconda2/envs/eden_env/lib/python2.7/site-packages/sklearn/utils/extmath.py:24: RuntimeWarning: numpy.dtype size changed, may indicate binary incompatibility. Expected 96, got 88\n",
      "  from ._logistic_sigmoid import _log_logistic_sigmoid\n",
      "/home/fc334/miniconda2/envs/eden_env/lib/python2.7/site-packages/sklearn/metrics/cluster/supervised.py:23: RuntimeWarning: numpy.dtype size changed, may indicate binary incompatibility. Expected 96, got 88\n",
      "  from .expected_mutual_info_fast import expected_mutual_information\n",
      "/home/fc334/miniconda2/envs/eden_env/lib/python2.7/site-packages/sklearn/metrics/pairwise.py:30: RuntimeWarning: numpy.dtype size changed, may indicate binary incompatibility. Expected 96, got 88\n",
      "  from .pairwise_fast import _chi2_kernel_fast, _sparse_manhattan\n"
     ]
    }
   ],
   "source": [
    "from eden.display import map_labels_to_colors\n",
    "from eden.display import draw_graph_set       \n",
    "\n",
    "class GraphDrawer(object):\n",
    "    \"\"\"GD.\"\"\"\n",
    "\n",
    "    def __init__(self, n_graphs_per_line=5, num_lines=4, size=8):\n",
    "        \"\"\"init.\"\"\"\n",
    "        self.n_graphs_per_line = n_graphs_per_line\n",
    "        self.num_lines = num_lines\n",
    "        self.size = size\n",
    "\n",
    "    def fit(self, graphs):\n",
    "        \"\"\"fit.\"\"\"\n",
    "        label_colors = map_labels_to_colors(graphs)\n",
    "        self.draw_params = dict(\n",
    "            n_graphs_per_line=self.n_graphs_per_line, \n",
    "            size=self.size, \n",
    "            colormap='Paired', \n",
    "            vertex_color='_labels_', \n",
    "            vertex_color_dict=label_colors, \n",
    "            vertex_alpha=0.5, \n",
    "            edge_alpha=0.2)\n",
    "        return self\n",
    "\n",
    "    def draw(self, orig_graphs):\n",
    "        graphs = orig_graphs[:self.num_lines*self.n_graphs_per_line]\n",
    "        draw_graph_set(graphs, **self.draw_params)"
   ]
  },
  {
   "cell_type": "markdown",
   "metadata": {},
   "source": [
    "# Experiment"
   ]
  },
  {
   "cell_type": "code",
   "execution_count": 5,
   "metadata": {
    "scrolled": true
   },
   "outputs": [
    {
     "name": "stderr",
     "output_type": "stream",
     "text": [
      "/home/fc334/miniconda2/envs/eden_env/lib/python2.7/site-packages/ipykernel_launcher.py:1: ImportWarning: Not importing directory '/home/fc334/Sync/Projects/constrActive': missing __init__.py\n",
      "  \"\"\"Entry point for launching an IPython kernel.\n",
      "/home/fc334/miniconda2/envs/eden_env/lib/python2.7/site-packages/sklearn/neighbors/__init__.py:6: RuntimeWarning: numpy.dtype size changed, may indicate binary incompatibility. Expected 96, got 88\n",
      "  from .ball_tree import BallTree\n",
      "/home/fc334/miniconda2/envs/eden_env/lib/python2.7/site-packages/sklearn/utils/random.py:10: RuntimeWarning: numpy.dtype size changed, may indicate binary incompatibility. Expected 96, got 88\n",
      "  from ._random import sample_without_replacement\n",
      "/home/fc334/miniconda2/envs/eden_env/lib/python2.7/site-packages/sklearn/utils/graph.py:15: RuntimeWarning: numpy.dtype size changed, may indicate binary incompatibility. Expected 96, got 88\n",
      "  from .graph_shortest_path import graph_shortest_path  # noqa\n",
      "/home/fc334/miniconda2/envs/eden_env/lib/python2.7/site-packages/sklearn/linear_model/base.py:35: RuntimeWarning: numpy.dtype size changed, may indicate binary incompatibility. Expected 96, got 88\n",
      "  from ..utils.seq_dataset import ArrayDataset, CSRDataset\n",
      "/home/fc334/miniconda2/envs/eden_env/lib/python2.7/site-packages/sklearn/linear_model/least_angle.py:23: RuntimeWarning: numpy.dtype size changed, may indicate binary incompatibility. Expected 96, got 88\n",
      "  from ..utils import arrayfuncs, as_float_array, check_X_y, deprecated\n",
      "/home/fc334/miniconda2/envs/eden_env/lib/python2.7/site-packages/sklearn/linear_model/coordinate_descent.py:29: RuntimeWarning: numpy.dtype size changed, may indicate binary incompatibility. Expected 96, got 88\n",
      "  from . import cd_fast\n",
      "/home/fc334/miniconda2/envs/eden_env/lib/python2.7/site-packages/sklearn/linear_model/__init__.py:22: RuntimeWarning: numpy.dtype size changed, may indicate binary incompatibility. Expected 96, got 88\n",
      "  from .sgd_fast import Hinge, Log, ModifiedHuber, SquaredLoss, Huber\n",
      "/home/fc334/miniconda2/envs/eden_env/lib/python2.7/site-packages/sklearn/linear_model/sag.py:12: RuntimeWarning: numpy.dtype size changed, may indicate binary incompatibility. Expected 96, got 88\n",
      "  from .sag_fast import sag\n",
      "/home/fc334/miniconda2/envs/eden_env/lib/python2.7/site-packages/sklearn/svm/base.py:8: RuntimeWarning: numpy.dtype size changed, may indicate binary incompatibility. Expected 96, got 88\n",
      "  from . import libsvm, liblinear\n",
      "/home/fc334/miniconda2/envs/eden_env/lib/python2.7/site-packages/sklearn/decomposition/online_lda.py:28: RuntimeWarning: numpy.dtype size changed, may indicate binary incompatibility. Expected 96, got 88\n",
      "  from ._online_lda import (mean_change, _dirichlet_expectation_1d,\n",
      "/home/fc334/miniconda2/envs/eden_env/lib/python2.7/site-packages/sklearn/isotonic.py:12: RuntimeWarning: numpy.dtype size changed, may indicate binary incompatibility. Expected 96, got 88\n",
      "  from ._isotonic import _inplace_contiguous_isotonic_regression, _make_unique\n",
      "/home/fc334/miniconda2/envs/eden_env/lib/python2.7/site-packages/scipy/sparse/csgraph/__init__.py:165: RuntimeWarning: numpy.dtype size changed, may indicate binary incompatibility. Expected 96, got 88\n",
      "  from ._shortest_path import shortest_path, floyd_warshall, dijkstra,\\\n",
      "/home/fc334/miniconda2/envs/eden_env/lib/python2.7/site-packages/scipy/sparse/csgraph/_validation.py:5: RuntimeWarning: numpy.dtype size changed, may indicate binary incompatibility. Expected 96, got 88\n",
      "  from ._tools import csgraph_to_dense, csgraph_from_dense,\\\n",
      "/home/fc334/miniconda2/envs/eden_env/lib/python2.7/site-packages/sklearn/manifold/t_sne.py:24: RuntimeWarning: numpy.dtype size changed, may indicate binary incompatibility. Expected 96, got 88\n",
      "  from . import _utils\n",
      "/home/fc334/miniconda2/envs/eden_env/lib/python2.7/site-packages/sklearn/tree/tree.py:40: RuntimeWarning: numpy.dtype size changed, may indicate binary incompatibility. Expected 96, got 88\n",
      "  from ._criterion import Criterion\n",
      "/home/fc334/miniconda2/envs/eden_env/lib/python2.7/site-packages/sklearn/cluster/k_means_.py:35: RuntimeWarning: numpy.dtype size changed, may indicate binary incompatibility. Expected 96, got 88\n",
      "  from . import _k_means\n",
      "/home/fc334/miniconda2/envs/eden_env/lib/python2.7/site-packages/sklearn/cluster/hierarchical.py:23: RuntimeWarning: numpy.dtype size changed, may indicate binary incompatibility. Expected 96, got 88\n",
      "  from . import _hierarchical\n",
      "/home/fc334/miniconda2/envs/eden_env/lib/python2.7/site-packages/sklearn/cluster/dbscan_.py:19: RuntimeWarning: numpy.dtype size changed, may indicate binary incompatibility. Expected 96, got 88\n",
      "  from ._dbscan_inner import dbscan_inner\n"
     ]
    }
   ],
   "source": [
    "from constrActive.utils import pre_process, _random_sample\n",
    "\n",
    "def make_data(assay_id, max_size=20):\n",
    "    # extract pos and neg graphs\n",
    "    all_pos_graphs, all_neg_graphs = get_pos_graphs(assay_id), get_neg_graphs(assay_id)\n",
    "\n",
    "    # remove too large and too small graphs and outliers\n",
    "    args=dict(initial_max_size=4000, fraction_to_remove=.2, n_neighbors_for_outliers=3, remove_similar=True, max_size=max_size)\n",
    "    logging.debug('\\nPositive graphs')\n",
    "    pos_graphs = pre_process(all_pos_graphs, **args)\n",
    "    logging.debug('\\nTest positive graphs')\n",
    "    ts_pos_graphs = _random_sample([g for g in all_pos_graphs if g not in pos_graphs], len(pos_graphs)*2)\n",
    "\n",
    "    logging.debug('\\nNegative graphs')\n",
    "    neg_graphs = pre_process(all_neg_graphs, **args)\n",
    "    logging.debug('\\nTest negative graphs')\n",
    "    ts_neg_graphs = _random_sample([g for g in all_neg_graphs if g not in neg_graphs], len(neg_graphs)*2)\n",
    "    logger.debug('-'*80)\n",
    "    \n",
    "    return pos_graphs, neg_graphs, ts_pos_graphs, ts_neg_graphs"
   ]
  },
  {
   "cell_type": "code",
   "execution_count": 6,
   "metadata": {
    "collapsed": true
   },
   "outputs": [],
   "source": [
    "from sklearn.model_selection import cross_val_score\n",
    "from sklearn.model_selection import cross_val_predict\n",
    "from sklearn.linear_model import Perceptron\n",
    "from constrActive.ideal_graph_estimator import IdealGraphEstimator\n",
    "\n",
    "def make_ideal_graph_estimator(pos_graphs, neg_graphs, ts_pos_graphs, ts_neg_graphs, \n",
    "                               n_neighbors=50, n_landmarks=7, max_num_solutions=100):\n",
    "    # estimate eprformance of EDeN classifier model\n",
    "    est = EdenEstimator(r=3, d=6, penalty='perceptron', nbits=16, normalization=True, inner_normalization=True)\n",
    "    ts_y = [1] * len(ts_pos_graphs) + [-1] * len(ts_neg_graphs)\n",
    "    tr_y = [1] * len(pos_graphs) + [-1] * len(neg_graphs)\n",
    "    tr_size = len(tr_y)\n",
    "    scores = est.cross_val_score(pos_graphs+neg_graphs, tr_y, scoring='roc_auc', cv=10)\n",
    "    tr_roc, tr_roc_std = np.mean(scores),np.std(scores)\n",
    "    logger.info(\"CV   AUC ROC: %0.3f (+/- %0.3f) [%0.3f:%0.3f]\" % (tr_roc, tr_roc_std, tr_roc-tr_roc_std, tr_roc+tr_roc_std))\n",
    "    est.fit(pos_graphs+neg_graphs, tr_y)\n",
    "    ts_preds = est.decision_function(ts_pos_graphs+ts_neg_graphs)\n",
    "    ts_roc = roc_auc_score(ts_y, ts_preds)\n",
    "    logger.info('Test AUC ROC: %.3f' % ts_roc)\n",
    "    \n",
    "    # make IGE \n",
    "    logger.info('-'*80)\n",
    "    clf = Perceptron(n_iter=500) \n",
    "    ige = IdealGraphEstimator(  \n",
    "        n_neighbors=n_neighbors,\n",
    "        n_landmarks=n_landmarks,\n",
    "        max_num_solutions=max_num_solutions)\n",
    "    ige.fit(pos_graphs, neg_graphs)\n",
    "    tr_xtr = ige.transform(pos_graphs+neg_graphs)\n",
    "    n_graphs, n_feat = len(ige.ideal_graphs_), tr_xtr.shape[1]\n",
    "    logger.info('Using %d selected constructs for %d features'%(n_graphs, n_feat))\n",
    "    scores = cross_val_score(clf, tr_xtr, tr_y, cv=10, scoring='roc_auc')\n",
    "    tr_ige_roc, tr_ige_roc_std = np.mean(scores),np.std(scores)\n",
    "    logger.info('Train CV AUC ROC: %.3f +- %.3f [%0.3f:%0.3f]'%(tr_ige_roc, tr_ige_roc_std,tr_ige_roc-tr_ige_roc_std, tr_ige_roc+tr_ige_roc_std))\n",
    "    clf.fit(tr_xtr, tr_y)\n",
    "    ts_xtr = ige.transform(ts_pos_graphs+ts_neg_graphs)\n",
    "    ts_ige_preds = clf.decision_function(ts_xtr)\n",
    "    ts_ige_roc = roc_auc_score(ts_y, ts_ige_preds)\n",
    "    logger.info('Test     AUC ROC: %.3f' % ts_ige_roc)\n",
    "    return ige, est, (tr_roc, tr_roc_std, ts_roc, tr_ige_roc, tr_ige_roc_std, ts_ige_roc, n_graphs, n_feat, tr_size)"
   ]
  },
  {
   "cell_type": "code",
   "execution_count": 7,
   "metadata": {
    "collapsed": true
   },
   "outputs": [],
   "source": [
    "from eden.ml.estimator import EdenEstimator\n",
    "from sklearn.metrics import roc_auc_score\n",
    "\n",
    "def make_experiment(assay_id, max_size=20, n_neighbors=2, n_landmarks=50, max_num_solutions=10):\n",
    "    def sort_graphs(orig_graphs, est):\n",
    "        preds = est.decision_function(orig_graphs)\n",
    "        graphs=[]\n",
    "        for pred, graph in sorted(zip(preds, orig_graphs), reverse=True):\n",
    "            graph.graph['id']='%.3f'%pred\n",
    "            graphs.append(graph)\n",
    "        return graphs\n",
    "\n",
    "    pos_graphs, neg_graphs, ts_pos_graphs, ts_neg_graphs = make_data(assay_id, max_size=max_size)\n",
    "    ige, est, rocs = make_ideal_graph_estimator(pos_graphs, neg_graphs, ts_pos_graphs, ts_neg_graphs, \n",
    "                                                n_neighbors=n_neighbors, n_landmarks=n_landmarks, max_num_solutions=max_num_solutions)\n",
    "    ideal_graphs = sort_graphs(ige.ideal_graphs_, est)\n",
    "    top_graphs = sort_graphs(pos_graphs, est)\n",
    "    return rocs, ideal_graphs, top_graphs\n",
    "\n",
    "def make_experiments(assay_ids, args):\n",
    "    rocs_list = []\n",
    "    for assay_id in assay_ids:\n",
    "        print('\\n\\n')\n",
    "        print('='*80)\n",
    "        print('Exp: %s' % assay_id)\n",
    "        print('_'*80)\n",
    "        rocs, ideal_graphs, top_graphs = make_experiment(assay_id, **args)\n",
    "        draw_rdkit(ideal_graphs, top_graphs, num=7*4, n_graphs_per_line=7)\n",
    "        rocs_list.append(list(rocs))\n",
    "    return rocs_list"
   ]
  },
  {
   "cell_type": "code",
   "execution_count": 8,
   "metadata": {
    "collapsed": true
   },
   "outputs": [],
   "source": [
    "import numpy as np\n",
    "import pylab as plt\n",
    "import time\n",
    "\n",
    "def _extract_std(R):\n",
    "    x = R[:,2]\n",
    "    y1 = R[:,2]-R[:,1]\n",
    "    y2 = R[:,2]+R[:,1] \n",
    "    xy12 = np.hstack([x.reshape(-1,1),y1.reshape(-1,1),y2.reshape(-1,1)])\n",
    "    ids = np.argsort(x)\n",
    "    xy12 = xy12[ids]\n",
    "    x = np.array(xy12[:,0])\n",
    "    y1 = np.array(xy12[:,1])\n",
    "    y2 = np.array(xy12[:,2])\n",
    "    return x, y1, y2\n",
    "\n",
    "def plot(rocs_list, fname_prefix=''):\n",
    "    def plot_(xx,yy,xlabel,ylabel,i, display_std=True):\n",
    "        plt.subplot(1, n_graphs_per_line, i + 1)\n",
    "        if display_std:\n",
    "            plt.fill_between(x,y1,y2, color='b', alpha=0.2)\n",
    "        plt.scatter(xx,yy)\n",
    "        plt.plot([0.5, 1], [0.5, 1], color='gray', lw=1, linestyle='--')\n",
    "        plt.xlabel(xlabel)\n",
    "        plt.ylabel(ylabel)\n",
    "        plt.grid(linestyle=\":\")\n",
    "\n",
    "\n",
    "    R = np.array(rocs_list)\n",
    "    x, y1, y2 = _extract_std(R)\n",
    "\n",
    "    plot_size=5\n",
    "    n_graphs_per_line=2\n",
    "    plt.figure(figsize=(plot_size*n_graphs_per_line, plot_size))\n",
    "        \n",
    "    plot_(R[:,2],R[:,0],'ROC Test EDeN','ROC CV Train EDeN',0)\n",
    "    plot_(R[:,2],R[:,5],'ROC Test EDeN','ROC Test IGE',1)\n",
    "    \n",
    "    timestamp = time.strftime('%Y_%m_%d_%H_%M_%S')\n",
    "    plt.savefig('%s_roc_plots_%s.pdf'%(fname_prefix, timestamp),\n",
    "                bbox_inches='tight',transparent=True,pad_inches=0)\n",
    "    plt.show()"
   ]
  },
  {
   "cell_type": "markdown",
   "metadata": {},
   "source": [
    "---"
   ]
  },
  {
   "cell_type": "code",
   "execution_count": null,
   "metadata": {
    "collapsed": true
   },
   "outputs": [],
   "source": [
    "#assay_ids=['492992','463230','588350','651610','624466','492952','463213','119','1224857','2326']\n",
    "assay_ids=['492992','463230','588350','651610','624466','492952','463213']\n",
    "\n",
    "args = dict(max_size=1000, n_neighbors=100, n_landmarks=7, max_num_solutions=100)"
   ]
  },
  {
   "cell_type": "code",
   "execution_count": null,
   "metadata": {
    "scrolled": false
   },
   "outputs": [
    {
     "name": "stdout",
     "output_type": "stream",
     "text": [
      "\n",
      "\n",
      "\n",
      "================================================================================\n",
      "Exp: 492992\n",
      "________________________________________________________________________________\n"
     ]
    },
    {
     "name": "stderr",
     "output_type": "stream",
     "text": [
      "/home/fc334/miniconda2/envs/eden_env/lib/python2.7/site-packages/sklearn/linear_model/stochastic_gradient.py:117: DeprecationWarning: n_iter parameter is deprecated in 0.19 and will be removed in 0.21. Use max_iter and tol instead.\n",
      "  DeprecationWarning)\n"
     ]
    },
    {
     "name": "stdout",
     "output_type": "stream",
     "text": [
      "CV   AUC ROC: 0.786 (+/- 0.067) [0.719:0.853]\n",
      "Test AUC ROC: 0.829\n",
      "--------------------------------------------------------------------------------\n"
     ]
    },
    {
     "name": "stderr",
     "output_type": "stream",
     "text": [
      "/home/fc334/miniconda2/envs/eden_env/lib/python2.7/site-packages/sklearn/linear_model/stochastic_gradient.py:128: FutureWarning: max_iter and tol parameters have been added in <class 'sklearn.linear_model.stochastic_gradient.SGDClassifier'> in 0.19. If both are left unset, they default to max_iter=5 and tol=None. If tol is not None, max_iter defaults to max_iter=1000. From 0.21, default max_iter will be 1000, and default tol will be 1e-3.\n",
      "  \"and default tol will be 1e-3.\" % type(self), FutureWarning)\n"
     ]
    }
   ],
   "source": [
    "%%time\n",
    "rocs_list = make_experiments(assay_ids, args)\n",
    "plot(rocs_list, 'exp2')"
   ]
  },
  {
   "cell_type": "markdown",
   "metadata": {},
   "source": [
    "---"
   ]
  }
 ],
 "metadata": {
  "kernelspec": {
   "display_name": "Python 2",
   "language": "python",
   "name": "python2"
  },
  "language_info": {
   "codemirror_mode": {
    "name": "ipython",
    "version": 2
   },
   "file_extension": ".py",
   "mimetype": "text/x-python",
   "name": "python",
   "nbconvert_exporter": "python",
   "pygments_lexer": "ipython2",
   "version": "2.7.14"
  }
 },
 "nbformat": 4,
 "nbformat_minor": 2
}
